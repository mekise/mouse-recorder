{
 "cells": [
  {
   "cell_type": "code",
   "execution_count": 1,
   "metadata": {
    "ExecuteTime": {
     "end_time": "2021-01-21T08:00:23.265108Z",
     "start_time": "2021-01-21T08:00:12.651117Z"
    }
   },
   "outputs": [
    {
     "name": "stdout",
     "output_type": "stream",
     "text": [
      "Press Ctrl-C to quit.\n",
      "\n",
      "\n"
     ]
    }
   ],
   "source": [
    "import pyautogui, sys\n",
    "\n",
    "print('Press Ctrl-C to quit.')\n",
    "\n",
    "x_old, y_old = 0, 0\n",
    "\n",
    "f = open(\"record.txt\", \"w\")\n",
    "\n",
    "try:\n",
    "    while True:\n",
    "        x, y = pyautogui.position()\n",
    "        positionStr = 'X:' + str(x).rjust(4) + ' Y:' + str(y).rjust(4)\n",
    "        \n",
    "        if x!=x_old or y!=y_old:\n",
    "            \n",
    "            f.write(positionStr)\n",
    "            f.write(\"\\n\")\n",
    "            #print(positionStr, end='')\n",
    "            #print('\\b' * len(positionStr), end='', flush=True)\n",
    "            #print('\\n')\n",
    "        \n",
    "        x_old, y_old = pyautogui.position()\n",
    "        \n",
    "except KeyboardInterrupt:\n",
    "    print('\\n')\n",
    "    \n",
    "f.close()"
   ]
  }
 ],
 "metadata": {
  "kernelspec": {
   "display_name": "Python 3",
   "language": "python",
   "name": "python3"
  },
  "language_info": {
   "codemirror_mode": {
    "name": "ipython",
    "version": 3
   },
   "file_extension": ".py",
   "mimetype": "text/x-python",
   "name": "python",
   "nbconvert_exporter": "python",
   "pygments_lexer": "ipython3",
   "version": "3.8.3"
  }
 },
 "nbformat": 4,
 "nbformat_minor": 4
}
